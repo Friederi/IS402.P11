{
 "cells": [
  {
   "cell_type": "code",
   "execution_count": 1,
   "id": "edc83b68-9896-4c9b-bdbc-53014e64dee7",
   "metadata": {},
   "outputs": [],
   "source": [
    "import json\n",
    "import random\n",
    "import time\n",
    "\n",
    "from faker import Faker\n",
    "from confluent_kafka import SerializingProducer\n",
    "from datetime import datetime"
   ]
  },
  {
   "cell_type": "code",
   "execution_count": 2,
   "id": "1c55784e-4ac7-436f-a887-4f4bdd946a45",
   "metadata": {},
   "outputs": [],
   "source": [
    "fake = Faker()\n",
    "\n",
    "def generate_sales_transactions():\n",
    "    user = fake.simple_profile()\n",
    "\n",
    "    return {\n",
    "        \"transactionId\": fake.uuid4(),\n",
    "        \"productId\": random.choice(['1', '2', '3', '4', '5', '6', '7', '8', '9']),\n",
    "        \"productName\": random.choice(['laptop', 'mobile', 'tablet', 'watch', 'headphone', 'speaker', 'PC', 'tablet', 'keyboard']),\n",
    "        'productCategory': random.choice(['electronic', 'fashion', 'grocery', 'home', 'beauty', 'sports', 'gaming', 'casual', 'competitive']),\n",
    "        'productPrice': round(random.uniform(10, 1000), 2),\n",
    "        'productQuantity': random.randint(1, 10),\n",
    "        'productBrand': random.choice(['apple', 'samsung', 'oneplus', 'mi', 'boat', 'sony', 'microsoft', 'nintendo', 'huawei']),\n",
    "        'currency': random.choice(['USD', 'GBP']),\n",
    "        'customerId': user['username'],\n",
    "        'transactionDate': datetime.utcnow().strftime('%Y-%m-%dT%H:%M:%S.%f%z'),\n",
    "        \"paymentMethod\": random.choice(['credit_card', 'debit_card', 'online_transfer'])\n",
    "    }"
   ]
  },
  {
   "cell_type": "code",
   "execution_count": 3,
   "id": "848155e7-6a6a-42a0-bfbf-c64ae98c262d",
   "metadata": {},
   "outputs": [],
   "source": [
    "def delivery_report(err, msg):\n",
    "    if err is not None:\n",
    "        print(f'Message delivery failed: {err}')\n",
    "    else:\n",
    "        print(f\"Message delivered to {msg.topic} [{msg.partition()}]\")"
   ]
  },
  {
   "cell_type": "code",
   "execution_count": 4,
   "id": "e0b83a64-9170-4de1-ba57-12a0860dfbcc",
   "metadata": {},
   "outputs": [],
   "source": [
    "def main():\n",
    "    topic = 'financial_transactions'\n",
    "    producer= SerializingProducer({\n",
    "        'bootstrap.servers': 'localhost:9092'\n",
    "    })\n",
    "\n",
    "    curr_time = datetime.now()\n",
    "\n",
    "    while (datetime.now() - curr_time).seconds < 120:\n",
    "        try:\n",
    "            transaction = generate_sales_transactions()\n",
    "            transaction['totalAmount'] = transaction['productPrice'] * transaction['productQuantity']\n",
    "\n",
    "            print(transaction)\n",
    "\n",
    "            producer.produce(topic,\n",
    "                             key=transaction['transactionId'],\n",
    "                             value=json.dumps(transaction),\n",
    "                             on_delivery=delivery_report\n",
    "                             )\n",
    "            producer.poll(0)\n",
    "            \n",
    "            # Wait for 5 seconds before sending the next transaction\n",
    "            time.sleep(5)\n",
    "        except BufferError:\n",
    "            print(\"Buffer full! Waiting...\")\n",
    "            time.sleep(1)\n",
    "        except Exception as e:\n",
    "            print(e)"
   ]
  },
  {
   "cell_type": "code",
   "execution_count": 5,
   "id": "2513fc0f-e3f0-4c33-80d9-5b67a1c06961",
   "metadata": {},
   "outputs": [
    {
     "name": "stdout",
     "output_type": "stream",
     "text": [
      "{'transactionId': '11119980-bf95-434b-a17f-cc67303c48cd', 'productId': '8', 'productName': 'speaker', 'productCategory': 'home', 'productPrice': 762.77, 'productQuantity': 3, 'productBrand': 'mi', 'currency': 'USD', 'customerId': 'michael54', 'transactionDate': '2024-10-26T12:25:14.371948', 'paymentMethod': 'credit_card', 'totalAmount': 2288.31}\n",
      "{'transactionId': '79496512-d5e0-4dcd-9cfc-80128ac9b553', 'productId': '6', 'productName': 'watch', 'productCategory': 'grocery', 'productPrice': 64.13, 'productQuantity': 8, 'productBrand': 'boat', 'currency': 'USD', 'customerId': 'lisabaker', 'transactionDate': '2024-10-26T12:25:19.373155', 'paymentMethod': 'credit_card', 'totalAmount': 513.04}\n",
      "Message delivered to <built-in method topic of cimpl.Message object at 0x0000024E21930940> [0]\n",
      "{'transactionId': 'd4d7c431-5b2d-4ee4-afc5-02f4f38264cf', 'productId': '8', 'productName': 'tablet', 'productCategory': 'gaming', 'productPrice': 133.47, 'productQuantity': 5, 'productBrand': 'samsung', 'currency': 'USD', 'customerId': 'pclark', 'transactionDate': '2024-10-26T12:25:24.374771', 'paymentMethod': 'online_transfer', 'totalAmount': 667.35}\n",
      "Message delivered to <built-in method topic of cimpl.Message object at 0x0000024E219305C0> [0]\n",
      "{'transactionId': 'c2e6b15e-17ef-4b37-bf07-44e059b7bb57', 'productId': '8', 'productName': 'tablet', 'productCategory': 'beauty', 'productPrice': 715.09, 'productQuantity': 6, 'productBrand': 'mi', 'currency': 'GBP', 'customerId': 'craigadams', 'transactionDate': '2024-10-26T12:25:29.375275', 'paymentMethod': 'online_transfer', 'totalAmount': 4290.54}\n",
      "Message delivered to <built-in method topic of cimpl.Message object at 0x0000024E21931240> [0]\n",
      "{'transactionId': '8aa5d1a7-1b49-4060-aa3a-440329b9bb79', 'productId': '3', 'productName': 'tablet', 'productCategory': 'casual', 'productPrice': 439.16, 'productQuantity': 7, 'productBrand': 'nintendo', 'currency': 'GBP', 'customerId': 'jennifer97', 'transactionDate': '2024-10-26T12:25:34.377209', 'paymentMethod': 'online_transfer', 'totalAmount': 3074.1200000000003}\n",
      "Message delivered to <built-in method topic of cimpl.Message object at 0x0000024E219311C0> [0]\n",
      "{'transactionId': 'a7c606b1-7fe4-4dd1-8923-3b4f23937ad9', 'productId': '8', 'productName': 'tablet', 'productCategory': 'casual', 'productPrice': 218.98, 'productQuantity': 2, 'productBrand': 'nintendo', 'currency': 'USD', 'customerId': 'tommy93', 'transactionDate': '2024-10-26T12:25:39.378651', 'paymentMethod': 'debit_card', 'totalAmount': 437.96}\n",
      "Message delivered to <built-in method topic of cimpl.Message object at 0x0000024E219313C0> [0]\n",
      "{'transactionId': 'fbe46df7-2bff-4420-87cf-a2edd61a9b50', 'productId': '6', 'productName': 'mobile', 'productCategory': 'casual', 'productPrice': 982.78, 'productQuantity': 5, 'productBrand': 'huawei', 'currency': 'GBP', 'customerId': 'henrysimon', 'transactionDate': '2024-10-26T12:25:44.379416', 'paymentMethod': 'online_transfer', 'totalAmount': 4913.9}\n",
      "Message delivered to <built-in method topic of cimpl.Message object at 0x0000024E219309C0> [0]\n",
      "{'transactionId': '982f1626-34af-4a02-b94c-37aa1c2b42bf', 'productId': '9', 'productName': 'tablet', 'productCategory': 'fashion', 'productPrice': 735.82, 'productQuantity': 7, 'productBrand': 'boat', 'currency': 'GBP', 'customerId': 'ewilliams', 'transactionDate': '2024-10-26T12:25:49.380523', 'paymentMethod': 'online_transfer', 'totalAmount': 5150.740000000001}\n",
      "Message delivered to <built-in method topic of cimpl.Message object at 0x0000024E219312C0> [0]\n",
      "{'transactionId': '3d2ba5af-f59d-4ebb-a5b0-8b5e52d96d9b', 'productId': '8', 'productName': 'keyboard', 'productCategory': 'electronic', 'productPrice': 357.66, 'productQuantity': 10, 'productBrand': 'sony', 'currency': 'GBP', 'customerId': 'thorntonchristian', 'transactionDate': '2024-10-26T12:25:54.382439', 'paymentMethod': 'credit_card', 'totalAmount': 3576.6000000000004}\n",
      "Message delivered to <built-in method topic of cimpl.Message object at 0x0000024E219311C0> [0]\n",
      "{'transactionId': '63c809a0-42bb-44a9-80b2-f72e18a0a9ca', 'productId': '3', 'productName': 'tablet', 'productCategory': 'gaming', 'productPrice': 83.42, 'productQuantity': 5, 'productBrand': 'nintendo', 'currency': 'GBP', 'customerId': 'samanthacarson', 'transactionDate': '2024-10-26T12:25:59.383151', 'paymentMethod': 'credit_card', 'totalAmount': 417.1}\n",
      "Message delivered to <built-in method topic of cimpl.Message object at 0x0000024E21931440> [0]\n",
      "{'transactionId': 'f42fddbf-cf44-482f-affe-fef47e46e0f9', 'productId': '3', 'productName': 'tablet', 'productCategory': 'gaming', 'productPrice': 462.6, 'productQuantity': 4, 'productBrand': 'huawei', 'currency': 'USD', 'customerId': 'acevedomark', 'transactionDate': '2024-10-26T12:26:04.384250', 'paymentMethod': 'debit_card', 'totalAmount': 1850.4}\n",
      "Message delivered to <built-in method topic of cimpl.Message object at 0x0000024E219313C0> [0]\n",
      "{'transactionId': '924cb39d-e174-4bec-b13d-6abc7f6834db', 'productId': '5', 'productName': 'watch', 'productCategory': 'electronic', 'productPrice': 806.74, 'productQuantity': 2, 'productBrand': 'nintendo', 'currency': 'USD', 'customerId': 'jessicale', 'transactionDate': '2024-10-26T12:26:09.385654', 'paymentMethod': 'debit_card', 'totalAmount': 1613.48}\n",
      "Message delivered to <built-in method topic of cimpl.Message object at 0x0000024E219309C0> [0]\n",
      "{'transactionId': '9cb51e2a-bd19-423c-be4b-4c5b2a6e6e6b', 'productId': '1', 'productName': 'speaker', 'productCategory': 'electronic', 'productPrice': 85.27, 'productQuantity': 10, 'productBrand': 'sony', 'currency': 'USD', 'customerId': 'matthew82', 'transactionDate': '2024-10-26T12:26:14.387190', 'paymentMethod': 'debit_card', 'totalAmount': 852.6999999999999}\n",
      "Message delivered to <built-in method topic of cimpl.Message object at 0x0000024E219312C0> [0]\n",
      "{'transactionId': 'd6b08ea9-3cc2-4f32-a447-179c1e2d3497', 'productId': '9', 'productName': 'mobile', 'productCategory': 'casual', 'productPrice': 891.13, 'productQuantity': 7, 'productBrand': 'microsoft', 'currency': 'USD', 'customerId': 'wthomas', 'transactionDate': '2024-10-26T12:26:19.387666', 'paymentMethod': 'debit_card', 'totalAmount': 6237.91}\n",
      "Message delivered to <built-in method topic of cimpl.Message object at 0x0000024E219311C0> [0]\n",
      "{'transactionId': '5aa92255-cdb5-439c-8780-4771dc3db757', 'productId': '7', 'productName': 'speaker', 'productCategory': 'gaming', 'productPrice': 416.92, 'productQuantity': 4, 'productBrand': 'huawei', 'currency': 'USD', 'customerId': 'lynnellis', 'transactionDate': '2024-10-26T12:26:24.388873', 'paymentMethod': 'credit_card', 'totalAmount': 1667.68}\n",
      "Message delivered to <built-in method topic of cimpl.Message object at 0x0000024E21931440> [0]\n",
      "{'transactionId': '3f3b78da-c789-49c4-9214-6067d388b114', 'productId': '6', 'productName': 'speaker', 'productCategory': 'home', 'productPrice': 381.41, 'productQuantity': 6, 'productBrand': 'huawei', 'currency': 'GBP', 'customerId': 'qsanders', 'transactionDate': '2024-10-26T12:26:29.390048', 'paymentMethod': 'credit_card', 'totalAmount': 2288.46}\n",
      "Message delivered to <built-in method topic of cimpl.Message object at 0x0000024E219313C0> [0]\n",
      "{'transactionId': '25788502-d2ab-43da-871b-e89334f46696', 'productId': '7', 'productName': 'watch', 'productCategory': 'fashion', 'productPrice': 582.41, 'productQuantity': 10, 'productBrand': 'nintendo', 'currency': 'GBP', 'customerId': 'emilyprince', 'transactionDate': '2024-10-26T12:26:34.391589', 'paymentMethod': 'online_transfer', 'totalAmount': 5824.099999999999}\n",
      "Message delivered to <built-in method topic of cimpl.Message object at 0x0000024E219309C0> [0]\n",
      "{'transactionId': 'b716fb87-ed81-420c-b9cf-cefc4b974450', 'productId': '8', 'productName': 'watch', 'productCategory': 'grocery', 'productPrice': 38.46, 'productQuantity': 8, 'productBrand': 'microsoft', 'currency': 'USD', 'customerId': 'denise46', 'transactionDate': '2024-10-26T12:26:39.392304', 'paymentMethod': 'credit_card', 'totalAmount': 307.68}\n",
      "Message delivered to <built-in method topic of cimpl.Message object at 0x0000024E219312C0> [0]\n",
      "{'transactionId': 'eb33c9ed-8986-45f4-b361-1cdd316f529c', 'productId': '4', 'productName': 'speaker', 'productCategory': 'fashion', 'productPrice': 929.03, 'productQuantity': 1, 'productBrand': 'oneplus', 'currency': 'GBP', 'customerId': 'morganwilson', 'transactionDate': '2024-10-26T12:26:44.393116', 'paymentMethod': 'credit_card', 'totalAmount': 929.03}\n",
      "Message delivered to <built-in method topic of cimpl.Message object at 0x0000024E219311C0> [0]\n"
     ]
    },
    {
     "ename": "KeyboardInterrupt",
     "evalue": "",
     "output_type": "error",
     "traceback": [
      "\u001b[1;31m---------------------------------------------------------------------------\u001b[0m",
      "\u001b[1;31mKeyboardInterrupt\u001b[0m                         Traceback (most recent call last)",
      "Cell \u001b[1;32mIn[5], line 2\u001b[0m\n\u001b[0;32m      1\u001b[0m \u001b[38;5;28;01mif\u001b[39;00m \u001b[38;5;18m__name__\u001b[39m \u001b[38;5;241m==\u001b[39m \u001b[38;5;124m\"\u001b[39m\u001b[38;5;124m__main__\u001b[39m\u001b[38;5;124m\"\u001b[39m:\n\u001b[1;32m----> 2\u001b[0m     main()\n",
      "Cell \u001b[1;32mIn[4], line 24\u001b[0m, in \u001b[0;36mmain\u001b[1;34m()\u001b[0m\n\u001b[0;32m     21\u001b[0m     producer\u001b[38;5;241m.\u001b[39mpoll(\u001b[38;5;241m0\u001b[39m)\n\u001b[0;32m     23\u001b[0m     \u001b[38;5;66;03m# Wait for 5 seconds before sending the next transaction\u001b[39;00m\n\u001b[1;32m---> 24\u001b[0m     time\u001b[38;5;241m.\u001b[39msleep(\u001b[38;5;241m5\u001b[39m)\n\u001b[0;32m     25\u001b[0m \u001b[38;5;28;01mexcept\u001b[39;00m \u001b[38;5;167;01mBufferError\u001b[39;00m:\n\u001b[0;32m     26\u001b[0m     \u001b[38;5;28mprint\u001b[39m(\u001b[38;5;124m\"\u001b[39m\u001b[38;5;124mBuffer full! Waiting...\u001b[39m\u001b[38;5;124m\"\u001b[39m)\n",
      "\u001b[1;31mKeyboardInterrupt\u001b[0m: "
     ]
    }
   ],
   "source": [
    "if __name__ == \"__main__\":\n",
    "    main()"
   ]
  },
  {
   "cell_type": "code",
   "execution_count": null,
   "id": "57814bca-5660-477b-bddf-b904ca010185",
   "metadata": {},
   "outputs": [],
   "source": []
  }
 ],
 "metadata": {
  "kernelspec": {
   "display_name": "Python 3 (ipykernel)",
   "language": "python",
   "name": "python3"
  },
  "language_info": {
   "codemirror_mode": {
    "name": "ipython",
    "version": 3
   },
   "file_extension": ".py",
   "mimetype": "text/x-python",
   "name": "python",
   "nbconvert_exporter": "python",
   "pygments_lexer": "ipython3",
   "version": "3.11.5"
  }
 },
 "nbformat": 4,
 "nbformat_minor": 5
}
