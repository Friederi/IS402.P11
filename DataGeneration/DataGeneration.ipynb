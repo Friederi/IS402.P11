{
 "cells": [
  {
   "cell_type": "code",
   "execution_count": 18,
   "id": "edc83b68-9896-4c9b-bdbc-53014e64dee7",
   "metadata": {},
   "outputs": [],
   "source": [
    "import json\n",
    "import random\n",
    "import time\n",
    "\n",
    "from faker import Faker\n",
    "from confluent_kafka import SerializingProducer\n",
    "from datetime import datetime"
   ]
  },
  {
   "cell_type": "code",
   "execution_count": 19,
   "id": "1c55784e-4ac7-436f-a887-4f4bdd946a45",
   "metadata": {},
   "outputs": [],
   "source": [
    "fake = Faker()\n",
    "\n",
    "def generate_sales_transactions():\n",
    "    products = {\n",
    "        '1': {'name': 'MacBook Pro', 'brand': 'Apple', 'category': 'electronics', 'price': 1500.00},\n",
    "        '2': {'name': 'Galaxy S21', 'brand': 'Samsung', 'category': 'electronics', 'price': 999.99},\n",
    "        '3': {'name': 'iPad Air', 'brand': 'Apple', 'category': 'electronics', 'price': 599.00},\n",
    "        '4': {'name': 'PlayStation 5', 'brand': 'Sony', 'category': 'gaming', 'price': 499.99},\n",
    "        '5': {'name': 'Xbox Series X', 'brand': 'Microsoft', 'category': 'gaming', 'price': 499.99},\n",
    "        '6': {'name': 'Echo Dot', 'brand': 'Amazon', 'category': 'home', 'price': 49.99},\n",
    "        '7': {'name': 'Yoga Laptop', 'brand': 'Lenovo', 'category': 'electronics', 'price': 1200.00},\n",
    "        '8': {'name': 'Noise Cancelling Headphones', 'brand': 'Bose', 'category': 'electronics', 'price': 299.99},\n",
    "        '9': {'name': 'OLED TV', 'brand': 'LG', 'category': 'electronics', 'price': 1800.00},\n",
    "        '10': {'name': 'Fitbit Charge 4', 'brand': 'Fitbit', 'category': 'health', 'price': 129.95}\n",
    "    }\n",
    "    \n",
    "    productId, productDetails = random.choice(list(products.items()))\n",
    "    \n",
    "    customer_ids = ['customer_1', 'customer_2', 'customer_3', 'customer_4', 'customer_5', 'customer_6', 'customer_7', 'customer_8', 'customer_9', 'customer_10']\n",
    "\n",
    "    return {\n",
    "        \"transactionId\": fake.uuid4(),\n",
    "        \"productId\": productId,\n",
    "        \"productName\": productDetails['name'],\n",
    "        'productCategory': productDetails['category'],\n",
    "        'productPrice': productDetails['price'],\n",
    "        'productQuantity': random.randint(1, 10),\n",
    "        'productBrand': productDetails['brand'],\n",
    "        'customerId': random.choice(customer_ids),\n",
    "        'transactionDate': datetime.utcnow().isoformat() + 'Z',\n",
    "        \"paymentMethod\": random.choice(['credit_card', 'debit_card', 'online_transfer']),\n",
    "        'storeId': random.choice(['store_1', 'store_2', 'store_3', 'store_4', 'store_5'])\n",
    "    }"
   ]
  },
  {
   "cell_type": "code",
   "execution_count": 20,
   "id": "848155e7-6a6a-42a0-bfbf-c64ae98c262d",
   "metadata": {},
   "outputs": [],
   "source": [
    "def delivery_report(err, msg):\n",
    "    if err is not None:\n",
    "        print(f'Message delivery failed: {err}')\n",
    "    else:\n",
    "        print(f\"Message delivered to {msg.topic} [{msg.partition()}]\")"
   ]
  },
  {
   "cell_type": "code",
   "execution_count": 21,
   "id": "e0b83a64-9170-4de1-ba57-12a0860dfbcc",
   "metadata": {},
   "outputs": [],
   "source": [
    "def main():\n",
    "    topic = 'financial_transactions'\n",
    "    producer= SerializingProducer({\n",
    "        'bootstrap.servers': 'localhost:9092'\n",
    "    })\n",
    "\n",
    "    curr_time = datetime.now()\n",
    "\n",
    "    while (datetime.now() - curr_time).seconds < 120:\n",
    "        try:\n",
    "            transaction = generate_sales_transactions()\n",
    "            transaction['totalAmount'] = transaction['productPrice'] * transaction['productQuantity']\n",
    "\n",
    "            print(transaction)\n",
    "\n",
    "            producer.produce(topic,\n",
    "                             key=transaction['transactionId'],\n",
    "                             value=json.dumps(transaction),\n",
    "                             on_delivery=delivery_report\n",
    "                             )\n",
    "            producer.poll(0)\n",
    "            \n",
    "            # Wait for 5 seconds before sending the next transaction\n",
    "            time.sleep(5)\n",
    "        except BufferError:\n",
    "            print(\"Buffer full! Waiting...\")\n",
    "            time.sleep(1)\n",
    "        except Exception as e:\n",
    "            print(e)\n",
    "    \n",
    "    producer.flush()"
   ]
  },
  {
   "cell_type": "code",
   "execution_count": 22,
   "id": "2513fc0f-e3f0-4c33-80d9-5b67a1c06961",
   "metadata": {},
   "outputs": [
    {
     "name": "stderr",
     "output_type": "stream",
     "text": [
      "/tmp/ipykernel_9741/3243490415.py:30: DeprecationWarning: datetime.datetime.utcnow() is deprecated and scheduled for removal in a future version. Use timezone-aware objects to represent datetimes in UTC: datetime.datetime.now(datetime.UTC).\n",
      "  'transactionDate': datetime.utcnow().isoformat() + 'Z',\n"
     ]
    },
    {
     "name": "stdout",
     "output_type": "stream",
     "text": [
      "{'transactionId': '1e340683-314d-4962-910e-239ec352690d', 'productId': '3', 'productName': 'iPad Air', 'productCategory': 'electronics', 'productPrice': 599.0, 'productQuantity': 4, 'productBrand': 'Apple', 'customerId': 'customer_6', 'transactionDate': '2024-10-30T17:59:56.556674Z', 'paymentMethod': 'debit_card', 'storeId': 'store_2', 'totalAmount': 2396.0}\n",
      "{'transactionId': '904f293d-c91d-475d-a942-bdca6f48598f', 'productId': '6', 'productName': 'Echo Dot', 'productCategory': 'home', 'productPrice': 49.99, 'productQuantity': 2, 'productBrand': 'Amazon', 'customerId': 'customer_6', 'transactionDate': '2024-10-30T18:00:01.567048Z', 'paymentMethod': 'credit_card', 'storeId': 'store_2', 'totalAmount': 99.98}\n",
      "Message delivered to <built-in method topic of cimpl.Message object at 0x74881f574840> [0]\n",
      "{'transactionId': '38a3559b-fbd5-4ed2-8d0a-e06236226796', 'productId': '9', 'productName': 'OLED TV', 'productCategory': 'electronics', 'productPrice': 1800.0, 'productQuantity': 4, 'productBrand': 'LG', 'customerId': 'customer_7', 'transactionDate': '2024-10-30T18:00:06.572006Z', 'paymentMethod': 'online_transfer', 'storeId': 'store_4', 'totalAmount': 7200.0}\n",
      "Message delivered to <built-in method topic of cimpl.Message object at 0x7488240e26c0> [0]\n",
      "{'transactionId': 'e9008c2a-5b89-4520-8a8a-439bb61ddf73', 'productId': '9', 'productName': 'OLED TV', 'productCategory': 'electronics', 'productPrice': 1800.0, 'productQuantity': 3, 'productBrand': 'LG', 'customerId': 'customer_10', 'transactionDate': '2024-10-30T18:00:11.573060Z', 'paymentMethod': 'credit_card', 'storeId': 'store_5', 'totalAmount': 5400.0}\n",
      "Message delivered to <built-in method topic of cimpl.Message object at 0x7488240e1440> [0]\n",
      "{'transactionId': '8b283561-b6fb-4369-8368-ba742912ddb3', 'productId': '7', 'productName': 'Yoga Laptop', 'productCategory': 'electronics', 'productPrice': 1200.0, 'productQuantity': 3, 'productBrand': 'Lenovo', 'customerId': 'customer_4', 'transactionDate': '2024-10-30T18:00:16.574905Z', 'paymentMethod': 'online_transfer', 'storeId': 'store_3', 'totalAmount': 3600.0}\n",
      "Message delivered to <built-in method topic of cimpl.Message object at 0x7488240e1440> [0]\n",
      "{'transactionId': '1cf06fef-349a-43d2-8552-73d235583736', 'productId': '10', 'productName': 'Fitbit Charge 4', 'productCategory': 'health', 'productPrice': 129.95, 'productQuantity': 3, 'productBrand': 'Fitbit', 'customerId': 'customer_7', 'transactionDate': '2024-10-30T18:00:21.575510Z', 'paymentMethod': 'credit_card', 'storeId': 'store_1', 'totalAmount': 389.84999999999997}\n",
      "Message delivered to <built-in method topic of cimpl.Message object at 0x7488240e1440> [0]\n",
      "{'transactionId': '8d835544-01c6-4adb-813f-5cd38108741b', 'productId': '3', 'productName': 'iPad Air', 'productCategory': 'electronics', 'productPrice': 599.0, 'productQuantity': 9, 'productBrand': 'Apple', 'customerId': 'customer_5', 'transactionDate': '2024-10-30T18:00:26.577248Z', 'paymentMethod': 'online_transfer', 'storeId': 'store_5', 'totalAmount': 5391.0}\n",
      "Message delivered to <built-in method topic of cimpl.Message object at 0x7488240e26c0> [0]\n",
      "{'transactionId': '68620319-dc1f-436e-a7c8-7820acd8bb2d', 'productId': '4', 'productName': 'PlayStation 5', 'productCategory': 'gaming', 'productPrice': 499.99, 'productQuantity': 7, 'productBrand': 'Sony', 'customerId': 'customer_8', 'transactionDate': '2024-10-30T18:00:31.578465Z', 'paymentMethod': 'credit_card', 'storeId': 'store_2', 'totalAmount': 3499.9300000000003}\n",
      "Message delivered to <built-in method topic of cimpl.Message object at 0x7488240e26c0> [0]\n",
      "{'transactionId': 'b09bf800-5565-4002-a4d1-9b5cfa69be6e', 'productId': '7', 'productName': 'Yoga Laptop', 'productCategory': 'electronics', 'productPrice': 1200.0, 'productQuantity': 3, 'productBrand': 'Lenovo', 'customerId': 'customer_2', 'transactionDate': '2024-10-30T18:00:36.579786Z', 'paymentMethod': 'debit_card', 'storeId': 'store_4', 'totalAmount': 3600.0}\n",
      "Message delivered to <built-in method topic of cimpl.Message object at 0x7488240e26c0> [0]\n",
      "{'transactionId': 'fd794058-2f86-4ea7-bed6-e1d4963799db', 'productId': '8', 'productName': 'Noise Cancelling Headphones', 'productCategory': 'electronics', 'productPrice': 299.99, 'productQuantity': 2, 'productBrand': 'Bose', 'customerId': 'customer_8', 'transactionDate': '2024-10-30T18:00:41.580675Z', 'paymentMethod': 'debit_card', 'storeId': 'store_2', 'totalAmount': 599.98}\n",
      "Message delivered to <built-in method topic of cimpl.Message object at 0x7488240e26c0> [0]\n",
      "{'transactionId': '7d466f26-1078-41db-9f69-ad9fe50f2a6a', 'productId': '6', 'productName': 'Echo Dot', 'productCategory': 'home', 'productPrice': 49.99, 'productQuantity': 8, 'productBrand': 'Amazon', 'customerId': 'customer_1', 'transactionDate': '2024-10-30T18:00:46.582705Z', 'paymentMethod': 'online_transfer', 'storeId': 'store_5', 'totalAmount': 399.92}\n",
      "Message delivered to <built-in method topic of cimpl.Message object at 0x7488240e12c0> [0]\n",
      "{'transactionId': '13b5ba58-588a-42b0-9bf5-ebedac1f620e', 'productId': '8', 'productName': 'Noise Cancelling Headphones', 'productCategory': 'electronics', 'productPrice': 299.99, 'productQuantity': 8, 'productBrand': 'Bose', 'customerId': 'customer_5', 'transactionDate': '2024-10-30T18:00:51.584264Z', 'paymentMethod': 'online_transfer', 'storeId': 'store_5', 'totalAmount': 2399.92}\n",
      "Message delivered to <built-in method topic of cimpl.Message object at 0x7488240e12c0> [0]\n",
      "{'transactionId': 'd3e753ff-b6da-4d7b-9420-2b45622f709b', 'productId': '3', 'productName': 'iPad Air', 'productCategory': 'electronics', 'productPrice': 599.0, 'productQuantity': 7, 'productBrand': 'Apple', 'customerId': 'customer_8', 'transactionDate': '2024-10-30T18:00:56.585436Z', 'paymentMethod': 'online_transfer', 'storeId': 'store_3', 'totalAmount': 4193.0}\n",
      "Message delivered to <built-in method topic of cimpl.Message object at 0x7488240e12c0> [0]\n",
      "{'transactionId': '52723a11-b15a-4d2f-abe3-9dbf61f5b257', 'productId': '8', 'productName': 'Noise Cancelling Headphones', 'productCategory': 'electronics', 'productPrice': 299.99, 'productQuantity': 4, 'productBrand': 'Bose', 'customerId': 'customer_6', 'transactionDate': '2024-10-30T18:01:01.586453Z', 'paymentMethod': 'online_transfer', 'storeId': 'store_4', 'totalAmount': 1199.96}\n",
      "Message delivered to <built-in method topic of cimpl.Message object at 0x74881f574140> [0]\n",
      "{'transactionId': 'e5bc17bd-c256-42dd-b00f-89f8421fbcd9', 'productId': '2', 'productName': 'Galaxy S21', 'productCategory': 'electronics', 'productPrice': 999.99, 'productQuantity': 1, 'productBrand': 'Samsung', 'customerId': 'customer_5', 'transactionDate': '2024-10-30T18:01:06.587914Z', 'paymentMethod': 'credit_card', 'storeId': 'store_5', 'totalAmount': 999.99}\n",
      "Message delivered to <built-in method topic of cimpl.Message object at 0x7488240e12c0> [0]\n",
      "{'transactionId': '26288d3c-414c-4af8-82c8-ccdaf7f61685', 'productId': '1', 'productName': 'MacBook Pro', 'productCategory': 'electronics', 'productPrice': 1500.0, 'productQuantity': 1, 'productBrand': 'Apple', 'customerId': 'customer_1', 'transactionDate': '2024-10-30T18:01:11.588873Z', 'paymentMethod': 'credit_card', 'storeId': 'store_4', 'totalAmount': 1500.0}\n",
      "Message delivered to <built-in method topic of cimpl.Message object at 0x7488240e12c0> [0]\n",
      "{'transactionId': '162ff073-5b62-41c3-83c5-81140c8293dd', 'productId': '6', 'productName': 'Echo Dot', 'productCategory': 'home', 'productPrice': 49.99, 'productQuantity': 1, 'productBrand': 'Amazon', 'customerId': 'customer_8', 'transactionDate': '2024-10-30T18:01:16.589859Z', 'paymentMethod': 'online_transfer', 'storeId': 'store_1', 'totalAmount': 49.99}\n",
      "Message delivered to <built-in method topic of cimpl.Message object at 0x74881f574ec0> [0]\n",
      "{'transactionId': 'b1f8e9b1-0c4f-4591-b2b0-0d5a0535bcb2', 'productId': '7', 'productName': 'Yoga Laptop', 'productCategory': 'electronics', 'productPrice': 1200.0, 'productQuantity': 2, 'productBrand': 'Lenovo', 'customerId': 'customer_3', 'transactionDate': '2024-10-30T18:01:21.591159Z', 'paymentMethod': 'debit_card', 'storeId': 'store_2', 'totalAmount': 2400.0}\n",
      "Message delivered to <built-in method topic of cimpl.Message object at 0x7488240e12c0> [0]\n",
      "{'transactionId': '5f9dcbb2-c6a2-4143-a416-12f55c71733e', 'productId': '7', 'productName': 'Yoga Laptop', 'productCategory': 'electronics', 'productPrice': 1200.0, 'productQuantity': 7, 'productBrand': 'Lenovo', 'customerId': 'customer_1', 'transactionDate': '2024-10-30T18:01:26.591701Z', 'paymentMethod': 'credit_card', 'storeId': 'store_5', 'totalAmount': 8400.0}\n",
      "Message delivered to <built-in method topic of cimpl.Message object at 0x7488240e12c0> [0]\n"
     ]
    },
    {
     "name": "stdout",
     "output_type": "stream",
     "text": [
      "{'transactionId': '272a66f0-adde-41f7-98fa-99c3767f8b54', 'productId': '9', 'productName': 'OLED TV', 'productCategory': 'electronics', 'productPrice': 1800.0, 'productQuantity': 7, 'productBrand': 'LG', 'customerId': 'customer_9', 'transactionDate': '2024-10-30T18:01:31.592152Z', 'paymentMethod': 'debit_card', 'storeId': 'store_2', 'totalAmount': 12600.0}\n",
      "Message delivered to <built-in method topic of cimpl.Message object at 0x7488240e1440> [0]\n",
      "{'transactionId': '6a80d53d-d54e-48e0-a20a-fb1bf157fa11', 'productId': '3', 'productName': 'iPad Air', 'productCategory': 'electronics', 'productPrice': 599.0, 'productQuantity': 5, 'productBrand': 'Apple', 'customerId': 'customer_10', 'transactionDate': '2024-10-30T18:01:36.593593Z', 'paymentMethod': 'debit_card', 'storeId': 'store_5', 'totalAmount': 2995.0}\n",
      "Message delivered to <built-in method topic of cimpl.Message object at 0x7488240e1440> [0]\n",
      "{'transactionId': '3c1c1e00-5b68-4a98-926e-3734ba64daa8', 'productId': '8', 'productName': 'Noise Cancelling Headphones', 'productCategory': 'electronics', 'productPrice': 299.99, 'productQuantity': 9, 'productBrand': 'Bose', 'customerId': 'customer_9', 'transactionDate': '2024-10-30T18:01:41.594556Z', 'paymentMethod': 'debit_card', 'storeId': 'store_3', 'totalAmount': 2699.91}\n",
      "Message delivered to <built-in method topic of cimpl.Message object at 0x7488240e1440> [0]\n",
      "{'transactionId': '87aed152-8e16-4747-a087-d3a3ea72b69c', 'productId': '5', 'productName': 'Xbox Series X', 'productCategory': 'gaming', 'productPrice': 499.99, 'productQuantity': 5, 'productBrand': 'Microsoft', 'customerId': 'customer_3', 'transactionDate': '2024-10-30T18:01:46.595686Z', 'paymentMethod': 'debit_card', 'storeId': 'store_2', 'totalAmount': 2499.95}\n",
      "Message delivered to <built-in method topic of cimpl.Message object at 0x74881f5747c0> [0]\n",
      "{'transactionId': 'ee35b988-3a4f-4c56-8d9c-5ae6a29bc7d8', 'productId': '5', 'productName': 'Xbox Series X', 'productCategory': 'gaming', 'productPrice': 499.99, 'productQuantity': 4, 'productBrand': 'Microsoft', 'customerId': 'customer_9', 'transactionDate': '2024-10-30T18:01:51.597337Z', 'paymentMethod': 'debit_card', 'storeId': 'store_3', 'totalAmount': 1999.96}\n",
      "Message delivered to <built-in method topic of cimpl.Message object at 0x7488240e26c0> [0]\n"
     ]
    },
    {
     "name": "stderr",
     "output_type": "stream",
     "text": [
      "%4|1730311316.600|TERMINATE|rdkafka#producer-4| [thrd:app]: Producer terminating with 1 message (366 bytes) still in queue or transit: use flush() to wait for outstanding message delivery\n"
     ]
    }
   ],
   "source": [
    "if __name__ == \"__main__\":\n",
    "    main()"
   ]
  },
  {
   "cell_type": "code",
   "execution_count": null,
   "id": "57814bca-5660-477b-bddf-b904ca010185",
   "metadata": {},
   "outputs": [],
   "source": []
  }
 ],
 "metadata": {
  "kernelspec": {
   "display_name": "Python 3 (ipykernel)",
   "language": "python",
   "name": "python3"
  },
  "language_info": {
   "codemirror_mode": {
    "name": "ipython",
    "version": 3
   },
   "file_extension": ".py",
   "mimetype": "text/x-python",
   "name": "python",
   "nbconvert_exporter": "python",
   "pygments_lexer": "ipython3",
   "version": "3.12.3"
  }
 },
 "nbformat": 4,
 "nbformat_minor": 5
}
